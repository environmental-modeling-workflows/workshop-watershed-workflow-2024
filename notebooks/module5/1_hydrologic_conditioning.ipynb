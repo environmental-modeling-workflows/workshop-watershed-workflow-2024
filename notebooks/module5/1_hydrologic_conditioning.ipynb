{
 "cells": [
  {
   "cell_type": "markdown",
   "metadata": {},
   "source": [
    "# Example: Hydrologic Conditioning with a focus on stream mesh\n"
   ]
  },
  {
   "cell_type": "code",
   "execution_count": 1,
   "metadata": {},
   "outputs": [],
   "source": [
    "# conda package imports\n",
    "import numpy as np\n",
    "from matplotlib import pyplot as plt\n",
    "import logging\n",
    "import copy\n",
    "import shapely\n",
    "import pickle\n",
    "\n",
    "import watershed_workflow \n",
    "import watershed_workflow.source_list\n",
    "import watershed_workflow.ui\n",
    "import watershed_workflow.crs\n",
    "import watershed_workflow.densification\n",
    "import watershed_workflow.mesh\n",
    "import watershed_workflow.condition\n",
    "watershed_workflow.ui.setup_logging(1,None)\n",
    "\n",
    "%matplotlib ipympl"
   ]
  },
  {
   "cell_type": "code",
   "execution_count": 2,
   "metadata": {},
   "outputs": [],
   "source": [
    "## Parameters cell -- this provides all parameters that can be changed via pipelining to generate a new watershed. \n",
    "coweeta_shapefile = '../../Coweeta_data/input_data/coweeta_basin.shp'\n",
    "hint = '0601'  # hint: HUC 4 containing this shape.  \n",
    "               # This is necessary to avoid downloading all HUCs to search for this shape\n",
    "name = 'Coweeta'\n",
    "\n",
    "figsize = (6,6)\n",
    "figsize_3d = (8,6)\n",
    "\n",
    "# Geomtric parameters tuning the degree of cleaning of the raw data and scales of hydrologic features to be considered\n",
    "simplify = 60 # length scale to target average edge\n",
    "ignore_small_rivers = 2 \n",
    "prune_by_area_fraction = 0.01 \n",
    "\n",
    "# huc boundary refinement control\n",
    "refine_d0 = 20\n",
    "refine_d1 = 100\n",
    "refine_L0 = 70\n",
    "refine_L1 = 200"
   ]
  },
  {
   "cell_type": "code",
   "execution_count": 3,
   "metadata": {},
   "outputs": [],
   "source": [
    "# Note that, by default, we tend to work in the DayMet CRS because this allows us to avoid\n",
    "# reprojecting meteorological forcing datasets.\n",
    "crs = watershed_workflow.crs.daymet_crs()"
   ]
  },
  {
   "cell_type": "markdown",
   "metadata": {},
   "source": [
    "### Sources and setup\n",
    "\n",
    "Next we set up the source watershed and coordinate system and all data sources for our mesh.  We will use the CRS that is included in the shapefile."
   ]
  },
  {
   "cell_type": "markdown",
   "metadata": {},
   "source": [
    "A wide range of data sources are available; here we use the defaults except for using NHD Plus for watershed boundaries and hydrography (the default is NHD, which is lower resolution and therefore smaller download sizes)."
   ]
  },
  {
   "cell_type": "code",
   "execution_count": 4,
   "metadata": {},
   "outputs": [],
   "source": [
    "# set up a dictionary of source objects\n",
    "sources = watershed_workflow.source_list.get_default_sources()\n",
    "sources['hydrography'] = watershed_workflow.source_list.hydrography_sources['NHD Plus']\n",
    "sources['HUC'] = watershed_workflow.source_list.huc_sources['NHD Plus']\n",
    "sources['DEM'] = '../../Coweeta_data/input_data/DEM/coweeta_dem.tif'"
   ]
  },
  {
   "cell_type": "markdown",
   "metadata": {},
   "source": [
    "### Get HUCs"
   ]
  },
  {
   "cell_type": "code",
   "execution_count": null,
   "metadata": {},
   "outputs": [],
   "source": [
    "# load hucs from shape\n",
    "_, watershed = watershed_workflow.get_split_form_shapes(coweeta_shapefile, out_crs=crs)"
   ]
  },
  {
   "cell_type": "markdown",
   "metadata": {},
   "source": [
    "### Get Rivers "
   ]
  },
  {
   "cell_type": "code",
   "execution_count": null,
   "metadata": {},
   "outputs": [],
   "source": [
    "# Geomtric parameters tuning the degree of cleaning of the raw data and scales of hydrologic features to be considered\n",
    "ignore_small_rivers = 2 \n",
    "prune_by_area_fraction = 0.01 \n",
    "\n",
    "# download/collect the river network within that shape's bounds\n",
    "# _, reaches = watershed_workflow.get_reaches(sources['hydrography'], hint, \n",
    "#                                             watershed.exterior(), crs, crs,\n",
    "#                                             in_network=True, properties=True)\n",
    "\n",
    "with open('../../Coweeta_data/input_data/hydrography/reaches.pkl', 'rb') as fid:\n",
    "    reaches_with_properties = pickle.load(fid)\n",
    "    reaches = []\n",
    "    for reach, props in reaches_with_properties:\n",
    "        line = shapely.geometry.LineString(reach)\n",
    "        line.properties = props\n",
    "        reaches.append(line)        \n",
    "\n",
    "rivers = watershed_workflow.construct_rivers(reaches, method='hydroseq',\n",
    "                                                ignore_small_rivers=ignore_small_rivers,\n",
    "                                                prune_by_area=prune_by_area_fraction * watershed.exterior().area * 1.e-6,\n",
    "                                                remove_diversions=True,\n",
    "                                                remove_braided_divergences=True)\n",
    "\n",
    "# keeping the originals\n",
    "rivers_orig=[river.deepcopy() for river in rivers]\n",
    "watershed_orig=copy.deepcopy(watershed) \n",
    "\n",
    "# simplifying \n",
    "rivers = watershed_workflow.simplify(watershed, rivers, simplify_hucs=simplify, simplify_rivers=simplify,\n",
    "                            snap_tol=0.75*simplify, cut_intersections=True)\n",
    "\n",
    "# for plotting purpose only\n",
    "rivers_simplified=[river.deepcopy() for river in rivers] \n",
    "watershed_simplified=copy.deepcopy(watershed) \n",
    "\n"
   ]
  },
  {
   "cell_type": "markdown",
   "metadata": {},
   "source": [
    "### Densification of River Network and Watershed"
   ]
  },
  {
   "cell_type": "code",
   "execution_count": null,
   "metadata": {},
   "outputs": [],
   "source": [
    "d0 = refine_d0; d1 = refine_d1\n",
    "L0 = refine_L0; L1 = refine_L1 \n",
    "\n",
    "# densify_watershed\n",
    "watershed_workflow.densification.densify_hucs(watershed, watershed_orig, rivers, limit_scales=[d0,L0,d1,L1]) \n",
    "\n",
    "#densify_river\n",
    "watershed_workflow.densification.densify_rivers_new(rivers, limit=70)\n",
    "\n",
    "\n",
    "# treat sharp angles\n",
    "watershed_workflow.densification.remove_sharp_angles(rivers, watershed, angle_limit=10, junction_angle_limit=10, huc_seg_river_angle_limit=10, limit=70)"
   ]
  },
  {
   "cell_type": "code",
   "execution_count": null,
   "metadata": {},
   "outputs": [],
   "source": [
    "# plot re-densified watershed and river network\n",
    "fig, ax = plt.subplots(subplot_kw={'projection':watershed_workflow.crs.to_cartopy(crs)}, figsize=(6,4))\n",
    "\n",
    "ax.plot(watershed.exterior().exterior.xy[0], watershed.exterior().exterior.xy[1], 'k-x')\n",
    "ax.set_title('re-densified',fontsize=16)\n",
    "\n",
    "for river in rivers:\n",
    "    for node in river.preOrder():\n",
    "        x,y=node.segment.xy \n",
    "        ax.plot(x,y,'-o',markersize=5)\n",
    "plt.show()"
   ]
  },
  {
   "cell_type": "code",
   "execution_count": null,
   "metadata": {},
   "outputs": [],
   "source": [
    "# how many types of Stream Orders are there\n",
    "set([r.properties[\"StreamOrder\"] for r in rivers[0].preOrder()])"
   ]
  },
  {
   "cell_type": "markdown",
   "metadata": {},
   "source": [
    "## Meshing"
   ]
  },
  {
   "cell_type": "code",
   "execution_count": null,
   "metadata": {},
   "outputs": [],
   "source": [
    "## Triangulation\n",
    "\n",
    "# Refine triangles if they get too acute\n",
    "min_angle = 32 # degrees\n",
    "\n",
    "# width of reach by stream order (order:width)\n",
    "widths = dict({1:8,2:12,3:16})\n",
    "\n",
    "mesh_points2, conn_list, areas, dists = watershed_workflow.tessalate_river_aligned(watershed,rivers, river_width=widths,\n",
    "                                              refine_min_angle=min_angle, refine_max_area=30000,\n",
    "                                              diagnostics=True)\n",
    "\n",
    "# try refine area = 10000, 20000 and 50000\n"
   ]
  },
  {
   "cell_type": "code",
   "execution_count": null,
   "metadata": {},
   "outputs": [],
   "source": [
    "# get a raster for the elevation map, based on NED\n",
    "dem_profile, dem = watershed_workflow.get_raster_on_shape(sources['DEM'], watershed.exterior(), crs)\n",
    "\n",
    "# elevate the triangle nodes to the dem\n",
    "mesh_points3 = watershed_workflow.elevate(mesh_points2, crs, dem, dem_profile)\n",
    "\n",
    "# construct the 2D mesh\n",
    "m2 = watershed_workflow.mesh.Mesh2D(mesh_points3.copy(), conn_list)"
   ]
  },
  {
   "cell_type": "code",
   "execution_count": 12,
   "metadata": {},
   "outputs": [],
   "source": [
    "# save a copy of the unconditioned mesh\n",
    "m2_unconditioned = copy.deepcopy(m2)"
   ]
  },
  {
   "cell_type": "code",
   "execution_count": null,
   "metadata": {},
   "outputs": [],
   "source": [
    "# plotting surface mesh with elevations\n",
    "start=min(m2_unconditioned.centroids[:,2])\n",
    "step=(max(m2_unconditioned.centroids[:,2])-(min(m2_unconditioned.centroids[:,2])))/40\n",
    "stop=max(m2_unconditioned.centroids[:,2])+step\n",
    "legend_values=np.arange(start,stop,step)\n",
    "indices, cmap, norm, ticks, labels = watershed_workflow.colors.generate_indexed_colormap(legend_values, cmap='terrain')\n",
    "\n",
    "\n",
    "fig = plt.figure(figsize=figsize)\n",
    "ax = watershed_workflow.plot.get_ax(crs, fig, window=[0.05,0.1,0.9,0.8])\n",
    "cbax = fig.add_axes([0.05,0.05,0.9,0.05])\n",
    "\n",
    "mp = watershed_workflow.plot.mesh(m2_unconditioned, crs, ax=ax, \n",
    "                        linewidth=0.5 ,color=m2_unconditioned.centroids[:,2], \n",
    "                        cmap=cmap, norm = norm, edgecolor='k', facecolor='color')\n",
    "cbar = fig.colorbar(mp, orientation=\"horizontal\", cax=cbax)\n",
    "ax.set_title('surface mesh with elevations')\n",
    "ax.set_aspect('equal', 'datalim')\n",
    "\n",
    "cbar.ax.set_title('elevation [m]')\n",
    "\n",
    "plt.show()\n"
   ]
  },
  {
   "cell_type": "markdown",
   "metadata": {},
   "source": [
    "## Pit-filling"
   ]
  },
  {
   "cell_type": "markdown",
   "metadata": {},
   "source": [
    "In the <b>pit-filling</b> algorithm, we want to make sure that river corridor is not filled up. Hence we exclude river corridor cells from the pit-filling algorithm."
   ]
  },
  {
   "cell_type": "code",
   "execution_count": 14,
   "metadata": {},
   "outputs": [],
   "source": [
    "# removing pits\n",
    "river_mask=np.zeros((len(m2.conn)))\n",
    "for i, elem in enumerate(m2.conn):\n",
    "    if not len(elem)==3:\n",
    "        river_mask[i]=1\n",
    "watershed_workflow.condition.fill_pits_dual(m2, is_waterbody=river_mask)"
   ]
  },
  {
   "cell_type": "code",
   "execution_count": null,
   "metadata": {},
   "outputs": [],
   "source": [
    "# plot the change between the two meshes\n",
    "diff = m2.centroids[:,2] - m2_unconditioned.centroids[:,2]\n",
    "print(\"max diff = \", np.abs(diff).max())\n",
    "\n",
    "# plotting surface mesh with elevations\n",
    "start=min(diff)\n",
    "step=(max(diff)-(min(diff)))/10\n",
    "stop=max(diff)+step\n",
    "legend_values=np.arange(start,stop,step)\n",
    "indices, cmap, norm, ticks, labels = watershed_workflow.colors.generate_indexed_colormap(legend_values, cmap='jet')\n",
    "\n",
    "\n",
    "fig = plt.figure(figsize=figsize)\n",
    "ax = watershed_workflow.plot.get_ax(crs, fig, window=[0.05,0.1,0.9,0.8])\n",
    "cbax = fig.add_axes([0.05,0.05,0.9,0.05])\n",
    "mp = watershed_workflow.plot.mesh(m2, crs, ax=ax,\n",
    "                        linewidth=0.5 ,color=diff,\n",
    "                        cmap=cmap, norm = norm, edgecolor='k', facecolor='color')\n",
    "cbar = fig.colorbar(mp, orientation=\"horizontal\", cax=cbax)\n",
    "ax.set_title('surface mesh with elevations')\n",
    "ax.set_aspect('equal', 'datalim')\n",
    "\n",
    "ax.set_title('conditioned dz')\n",
    "cbar.ax.set_title('elevation diff [m]')\n",
    "\n",
    "plt.show()"
   ]
  },
  {
   "cell_type": "markdown",
   "metadata": {},
   "source": [
    "## Stream Network Hydrologic Conditioning"
   ]
  },
  {
   "cell_type": "markdown",
   "metadata": {},
   "source": [
    "<b> Hydrologic conditioning </b> step ensures connectivity in the stream network by removing spurrious obstructions and enforcing elevation gradients\n",
    "\n",
    "\n",
    "- `smooth`: boolean, optional </br>\n",
    "        If true, smooth the profile of each reach using a gaussian\n",
    "        filter (mainly to pass through railroads and avoid reservoirs).\n",
    "- `use_parent`: boolean, optional\n",
    "        If true, use the segment from the original parent reach while\n",
    "        smoothing (seems to be not making a huge difference).\n",
    "- `lower`: boolean, optional</br>\n",
    "        If true, lower the smoothed bed profile to match the lower\n",
    "        points on the raw bed profile. This is useful particularly for\n",
    "        narrow ag. ditches where NHDPLus flowlines often do not\n",
    "        coincide with the DEM depressions and so stream-elements\n",
    "        intermitently fall into them.\n",
    "- `use_nhd_elev`: boolean, optional</br>\n",
    "        If true, enforce maximum and minimum elevation for each\n",
    "        reach provided in NHDPlus.\n",
    "- `treat_banks`: boolean, optional</br>\n",
    "        Where the river is passing right next to the reservoir or\n",
    "        NHDline is misplaced into the reservoir, banks may fall into\n",
    "        the reservoir. If true, this will enforce that the bank node\n",
    "        is at a higher elevation than the stream bed elevation.\n",
    "- `depress_upstream_by`: float, optional</br>\n",
    "        If the depression is not captured well in the DEM, the\n",
    "        river-mesh elements (streambed) headwater reaches may be\n",
    "        lowered by this number.  The effect of propogated downstream\n",
    "        only upto where it is needed to maintain topographic gradients\n",
    "        on the network scale in the network sweep step.\n",
    "- `network_burn_in_depth`: float, dict, or function</br>\n",
    "        Like depress_upstream_by, this also lowers river-mesh elements\n",
    "        by this value, but this variant lowers all reaches.  The depth\n",
    "        may be provided as a float (uniform lowering), dictionary\n",
    "        {stream order : depth to depress by}, or as a function of\n",
    "        drainage area.\n",
    "- `ignore_in_sweep`: list, optional</br>\n",
    "        If provided, a list of IDs to not be burned in via the network\n",
    "        sweep.\n",
    "\n",
    "\n",
    "Examples of hydrologic conditioning from Portage Watershed which is agriculture dominated:\n",
    "\n",
    "# <img src=\"../images/hydro_conditioning.png\" width=\"800\"/>\n"
   ]
  },
  {
   "cell_type": "code",
   "execution_count": 16,
   "metadata": {},
   "outputs": [],
   "source": [
    "# before river conditioning\n",
    "m2_unconditioned = copy.deepcopy(m2)\n"
   ]
  },
  {
   "cell_type": "code",
   "execution_count": 17,
   "metadata": {},
   "outputs": [],
   "source": [
    "# adding elevations to the river tree for stream bed conditioning\n",
    "watershed_workflow.condition.elevate_rivers(rivers, crs, dem, dem_profile)"
   ]
  },
  {
   "cell_type": "markdown",
   "metadata": {},
   "source": [
    "### 1) Basic Conditioning"
   ]
  },
  {
   "cell_type": "code",
   "execution_count": 18,
   "metadata": {},
   "outputs": [],
   "source": [
    "## get the original mesh\n",
    "m2 = copy.deepcopy(m2_unconditioned)\n",
    "watershed_workflow.condition.condition_river_mesh(m2, river)"
   ]
  },
  {
   "cell_type": "code",
   "execution_count": null,
   "metadata": {},
   "outputs": [],
   "source": [
    "start=min(m2_unconditioned.centroids[:,2])\n",
    "step=(max(m2_unconditioned.centroids[:,2])-(min(m2_unconditioned.centroids[:,2])))/40\n",
    "stop=max(m2_unconditioned.centroids[:,2])+step\n",
    "legend_values=np.arange(start,stop,step)\n",
    "indices, cmap, norm, ticks, labels = watershed_workflow.colors.generate_indexed_colormap(legend_values, cmap='terrain')\n",
    "\n",
    "fig, (ax1, ax2) = plt.subplots(1, 2, figsize=(2*figsize[0], figsize[1]))\n",
    "\n",
    "# First subplot - unconditioned mesh\n",
    "ax1 = watershed_workflow.plot.get_ax(crs, fig, window=[0.05,0.1,0.45,0.8])\n",
    "cbax1 = fig.add_axes([0.05,0.05,0.45,0.05])\n",
    "\n",
    "mp1 = watershed_workflow.plot.mesh(m2_unconditioned, crs, ax=ax1, \n",
    "                        linewidth=0.5 ,color=m2_unconditioned.centroids[:,2], \n",
    "                        cmap=cmap, norm = norm, edgecolor='k', facecolor='color')\n",
    "cbar1 = fig.colorbar(mp1, orientation=\"horizontal\", cax=cbax1)\n",
    "ax1.set_title('Surface mesh with elevations')\n",
    "ax1.set_aspect('equal', 'datalim')\n",
    "cbar1.ax.set_title('elevation [m]')\n",
    "\n",
    "# Second subplot - elevation difference\n",
    "diff = m2.centroids[:,2] - m2_unconditioned.centroids[:,2]\n",
    "print(\"max diff = \", np.abs(diff).max())\n",
    "\n",
    "start=min(diff)\n",
    "step=(max(diff)-(min(diff)))/10\n",
    "stop=max(diff)+step\n",
    "legend_values=np.arange(start,stop,step)\n",
    "indices, cmap, norm, ticks, labels = watershed_workflow.colors.generate_indexed_colormap(legend_values, cmap='jet')\n",
    "\n",
    "ax2 = watershed_workflow.plot.get_ax(crs, fig, window=[0.55,0.1,0.45,0.8])\n",
    "cbax2 = fig.add_axes([0.55,0.05,0.45,0.05])\n",
    "\n",
    "mp2 = watershed_workflow.plot.mesh(m2, crs, ax=ax2,\n",
    "                        linewidth=0.5 ,color=diff,\n",
    "                        cmap=cmap, norm = norm, edgecolor='k', facecolor='color')\n",
    "cbar2 = fig.colorbar(mp2, orientation=\"horizontal\", cax=cbax2)\n",
    "ax2.set_title('Conditioned dz')\n",
    "ax2.set_aspect('equal', 'datalim')\n",
    "cbar2.ax.set_title('elevation diff [m]')\n",
    "\n",
    "plt.show()"
   ]
  },
  {
   "cell_type": "markdown",
   "metadata": {},
   "source": [
    "### 2) Uniform Supplemental Depth"
   ]
  },
  {
   "cell_type": "code",
   "execution_count": 20,
   "metadata": {},
   "outputs": [],
   "source": [
    "## get the original mesh\n",
    "m2 = copy.deepcopy(m2_unconditioned)\n",
    "## propogate the depth from headwaters\n",
    "watershed_workflow.condition.condition_river_mesh(m2, rivers[0], network_burn_in_depth=1)"
   ]
  },
  {
   "cell_type": "code",
   "execution_count": null,
   "metadata": {},
   "outputs": [],
   "source": [
    "start=min(m2_unconditioned.centroids[:,2])\n",
    "step=(max(m2_unconditioned.centroids[:,2])-(min(m2_unconditioned.centroids[:,2])))/40\n",
    "stop=max(m2_unconditioned.centroids[:,2])+step\n",
    "legend_values=np.arange(start,stop,step)\n",
    "indices, cmap, norm, ticks, labels = watershed_workflow.colors.generate_indexed_colormap(legend_values, cmap='terrain')\n",
    "\n",
    "fig, (ax1, ax2) = plt.subplots(1, 2, figsize=(2*figsize[0], figsize[1]))\n",
    "\n",
    "# First subplot - unconditioned mesh\n",
    "ax1 = watershed_workflow.plot.get_ax(crs, fig, window=[0.05,0.1,0.45,0.8])\n",
    "cbax1 = fig.add_axes([0.05,0.05,0.45,0.05])\n",
    "\n",
    "mp1 = watershed_workflow.plot.mesh(m2_unconditioned, crs, ax=ax1, \n",
    "                        linewidth=0.5 ,color=m2_unconditioned.centroids[:,2], \n",
    "                        cmap=cmap, norm = norm, edgecolor='k', facecolor='color')\n",
    "cbar1 = fig.colorbar(mp1, orientation=\"horizontal\", cax=cbax1)\n",
    "ax1.set_title('Surface mesh with elevations')\n",
    "ax1.set_aspect('equal', 'datalim')\n",
    "cbar1.ax.set_title('elevation [m]')\n",
    "\n",
    "# Second subplot - elevation difference\n",
    "diff = m2.centroids[:,2] - m2_unconditioned.centroids[:,2]\n",
    "print(\"max diff = \", np.abs(diff).max())\n",
    "\n",
    "start=min(diff)\n",
    "step=(max(diff)-(min(diff)))/10\n",
    "stop=max(diff)+step\n",
    "legend_values=np.arange(start,stop,step)\n",
    "indices, cmap, norm, ticks, labels = watershed_workflow.colors.generate_indexed_colormap(legend_values, cmap='jet')\n",
    "\n",
    "ax2 = watershed_workflow.plot.get_ax(crs, fig, window=[0.55,0.1,0.45,0.8])\n",
    "cbax2 = fig.add_axes([0.55,0.05,0.45,0.05])\n",
    "\n",
    "mp2 = watershed_workflow.plot.mesh(m2, crs, ax=ax2,\n",
    "                        linewidth=0.5 ,color=diff,\n",
    "                        cmap=cmap, norm = norm, edgecolor='k', facecolor='color')\n",
    "cbar2 = fig.colorbar(mp2, orientation=\"horizontal\", cax=cbax2)\n",
    "ax2.set_title('Conditioned dz')\n",
    "ax2.set_aspect('equal', 'datalim')\n",
    "cbar2.ax.set_title('elevation diff [m]')\n",
    "\n",
    "plt.show()"
   ]
  },
  {
   "cell_type": "markdown",
   "metadata": {},
   "source": [
    "### Function-based Supplemental Depth"
   ]
  },
  {
   "cell_type": "code",
   "execution_count": 22,
   "metadata": {},
   "outputs": [],
   "source": [
    "# Depth vs Drainage area scaling for Tenessee streams \n",
    "# (source: https://www.tn.gov/content/dam/tn/environment/water/natural-resources-unit/wr_nru_tennessee-ref-stream-morphology.pdf)\n",
    "def depth_drainage_area_scaling(DA):\n",
    "    DA_sq_miles =  DA/2589988.11   \n",
    "    depth_in_feet = 1.22*DA_sq_miles**0.317\n",
    "    return 0.3048*depth_in_feet # depth_in_meters"
   ]
  },
  {
   "cell_type": "code",
   "execution_count": 23,
   "metadata": {},
   "outputs": [],
   "source": [
    "## get the original mesh\n",
    "m2 = copy.deepcopy(m2_unconditioned)\n",
    "watershed_workflow.condition.condition_river_mesh(m2, rivers[0], network_burn_in_depth=depth_drainage_area_scaling)"
   ]
  },
  {
   "cell_type": "code",
   "execution_count": null,
   "metadata": {},
   "outputs": [],
   "source": [
    "start=min(m2_unconditioned.centroids[:,2])\n",
    "step=(max(m2_unconditioned.centroids[:,2])-(min(m2_unconditioned.centroids[:,2])))/40\n",
    "stop=max(m2_unconditioned.centroids[:,2])+step\n",
    "legend_values=np.arange(start,stop,step)\n",
    "indices, cmap, norm, ticks, labels = watershed_workflow.colors.generate_indexed_colormap(legend_values, cmap='terrain')\n",
    "\n",
    "fig, (ax1, ax2) = plt.subplots(1, 2, figsize=(2*figsize[0], figsize[1]))\n",
    "\n",
    "# First subplot - unconditioned mesh\n",
    "ax1 = watershed_workflow.plot.get_ax(crs, fig, window=[0.05,0.1,0.45,0.8])\n",
    "cbax1 = fig.add_axes([0.05,0.05,0.45,0.05])\n",
    "\n",
    "mp1 = watershed_workflow.plot.mesh(m2_unconditioned, crs, ax=ax1, \n",
    "                        linewidth=0.5 ,color=m2_unconditioned.centroids[:,2], \n",
    "                        cmap=cmap, norm = norm, edgecolor='k', facecolor='color')\n",
    "cbar1 = fig.colorbar(mp1, orientation=\"horizontal\", cax=cbax1)\n",
    "ax1.set_title('Surface mesh with elevations')\n",
    "ax1.set_aspect('equal', 'datalim')\n",
    "cbar1.ax.set_title('elevation [m]')\n",
    "\n",
    "# Second subplot - elevation difference\n",
    "diff = m2.centroids[:,2] - m2_unconditioned.centroids[:,2]\n",
    "print(\"max diff = \", np.abs(diff).max())\n",
    "\n",
    "start=min(diff)\n",
    "step=(max(diff)-(min(diff)))/10\n",
    "stop=max(diff)+step\n",
    "legend_values=np.arange(start,stop,step)\n",
    "indices, cmap, norm, ticks, labels = watershed_workflow.colors.generate_indexed_colormap(legend_values, cmap='jet')\n",
    "\n",
    "ax2 = watershed_workflow.plot.get_ax(crs, fig, window=[0.55,0.1,0.45,0.8])\n",
    "cbax2 = fig.add_axes([0.55,0.05,0.45,0.05])\n",
    "\n",
    "mp2 = watershed_workflow.plot.mesh(m2, crs, ax=ax2,\n",
    "                        linewidth=0.5 ,color=diff,\n",
    "                        cmap=cmap, norm = norm, edgecolor='k', facecolor='color')\n",
    "cbar2 = fig.colorbar(mp2, orientation=\"horizontal\", cax=cbax2)\n",
    "ax2.set_title('Conditioned dz')\n",
    "ax2.set_aspect('equal', 'datalim')\n",
    "cbar2.ax.set_title('elevation diff [m]')\n",
    "\n",
    "plt.show()"
   ]
  }
 ],
 "metadata": {
  "kernelspec": {
   "display_name": "watershed_workflow-pure",
   "language": "python",
   "name": "python3"
  },
  "language_info": {
   "codemirror_mode": {
    "name": "ipython",
    "version": 3
   },
   "file_extension": ".py",
   "mimetype": "text/x-python",
   "name": "python",
   "nbconvert_exporter": "python",
   "pygments_lexer": "ipython3",
   "version": "3.10.6"
  }
 },
 "nbformat": 4,
 "nbformat_minor": 4
}
