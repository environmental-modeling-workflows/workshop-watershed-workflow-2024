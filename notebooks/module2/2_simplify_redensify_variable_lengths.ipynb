{
 "cells": [
  {
   "cell_type": "markdown",
   "metadata": {},
   "source": [
    "# Example: Simplify and Redensify a Watershed\n",
    "\n",
    "Here we will provide variable lengths for the quads."
   ]
  },
  {
   "cell_type": "code",
   "execution_count": 1,
   "metadata": {},
   "outputs": [],
   "source": [
    "# conda package imports\n",
    "import numpy as np\n",
    "from matplotlib import pyplot as plt\n",
    "import logging\n",
    "import copy\n",
    "import shapely\n",
    "import pickle\n",
    "\n",
    "import watershed_workflow \n",
    "import watershed_workflow.source_list\n",
    "import watershed_workflow.ui\n",
    "import watershed_workflow.crs\n",
    "import watershed_workflow.densification\n",
    "watershed_workflow.ui.setup_logging(1,None)\n",
    "\n",
    "%matplotlib ipympl"
   ]
  },
  {
   "cell_type": "code",
   "execution_count": 2,
   "metadata": {},
   "outputs": [],
   "source": [
    "## Parameters cell -- this provides all parameters that can be changed via pipelining to generate a new watershed. \n",
    "coweeta_shapefile = '../../Coweeta_data/input_data/coweeta_basin.shp'\n",
    "hint = '0601'  # hint: HUC 4 containing this shape.  \n",
    "               # This is necessary to avoid downloading all HUCs to search for this shape\n",
    "name = 'Coweeta'\n",
    "\n",
    "figsize = (6,6)\n",
    "figsize_3d = (8,6)\n"
   ]
  },
  {
   "cell_type": "code",
   "execution_count": 3,
   "metadata": {},
   "outputs": [],
   "source": [
    "# Note that, by default, we tend to work in the DayMet CRS because this allows us to avoid\n",
    "# reprojecting meteorological forcing datasets.\n",
    "crs = watershed_workflow.crs.daymet_crs()"
   ]
  },
  {
   "cell_type": "markdown",
   "metadata": {},
   "source": [
    "### Sources and setup\n",
    "\n",
    "Next we set up the source watershed and coordinate system and all data sources for our mesh.  We will use the CRS that is included in the shapefile."
   ]
  },
  {
   "cell_type": "markdown",
   "metadata": {},
   "source": [
    "A wide range of data sources are available; here we use the defaults except for using NHD Plus for watershed boundaries and hydrography (the default is NHD, which is lower resolution and therefore smaller download sizes)."
   ]
  },
  {
   "cell_type": "code",
   "execution_count": null,
   "metadata": {},
   "outputs": [],
   "source": [
    "# set up a dictionary of source objects\n",
    "sources = watershed_workflow.source_list.get_default_sources()\n",
    "sources['hydrography'] = watershed_workflow.source_list.hydrography_sources['NHD Plus']\n",
    "sources['HUC'] = watershed_workflow.source_list.huc_sources['NHD Plus']\n",
    "\n",
    "watershed_workflow.source_list.log_sources(sources)"
   ]
  },
  {
   "cell_type": "markdown",
   "metadata": {},
   "source": [
    "### Get HUCs"
   ]
  },
  {
   "cell_type": "code",
   "execution_count": null,
   "metadata": {},
   "outputs": [],
   "source": [
    "# load hucs from shape\n",
    "_, watershed = watershed_workflow.get_split_form_shapes(coweeta_shapefile, out_crs=crs)"
   ]
  },
  {
   "cell_type": "markdown",
   "metadata": {},
   "source": [
    "### Get Rivers "
   ]
  },
  {
   "cell_type": "code",
   "execution_count": null,
   "metadata": {},
   "outputs": [],
   "source": [
    "# Geomtric parameters tuning the degree of cleaning of the raw data and scales of hydrologic features to be considered\n",
    "ignore_small_rivers = 2 \n",
    "prune_by_area_fraction = 0.01 \n",
    "\n",
    "# download/collect the river network within that shape's bounds\n",
    "# _, reaches = watershed_workflow.get_reaches(sources['hydrography'], hint, \n",
    "#                                             watershed.exterior(), crs, crs,\n",
    "#                                             in_network=True, properties=True)\n",
    "\n",
    "with open('../../Coweeta_data/input_data/hydrography/reaches.pkl', 'rb') as fid:\n",
    "    reaches_with_properties = pickle.load(fid)\n",
    "    reaches = []\n",
    "    for reach, props in reaches_with_properties:\n",
    "        line = shapely.geometry.LineString(reach)\n",
    "        line.properties = props\n",
    "        reaches.append(line)        \n",
    "\n",
    "rivers = watershed_workflow.construct_rivers(reaches, method='hydroseq',\n",
    "                                                ignore_small_rivers=ignore_small_rivers,\n",
    "                                                prune_by_area=prune_by_area_fraction * watershed.exterior().area * 1.e-6,\n",
    "                                                remove_diversions=True,\n",
    "                                                remove_braided_divergences=True)"
   ]
  },
  {
   "cell_type": "markdown",
   "metadata": {},
   "source": [
    "### Simplify"
   ]
  },
  {
   "cell_type": "code",
   "execution_count": null,
   "metadata": {},
   "outputs": [],
   "source": [
    "simplify = 1\n",
    "snap_tol = 40\n",
    "# keeping the originals\n",
    "rivers_orig=[river.deepcopy() for river in rivers]\n",
    "watershed_orig=copy.deepcopy(watershed) \n",
    "\n",
    "# simplifying \n",
    "rivers = watershed_workflow.simplify(watershed, rivers, simplify_hucs=simplify, simplify_rivers=simplify,\n",
    "                            snap_tol=snap_tol, cut_intersections=True)\n",
    "\n",
    "# for plotting purpose only\n",
    "rivers_simplified=[river.deepcopy() for river in rivers] \n",
    "watershed_simplified=copy.deepcopy(watershed) "
   ]
  },
  {
   "cell_type": "markdown",
   "metadata": {},
   "source": [
    "Plotting original and simplified-pruned rivers and watershed\n"
   ]
  },
  {
   "cell_type": "code",
   "execution_count": null,
   "metadata": {},
   "outputs": [],
   "source": [
    "fig, axs = plt.subplots(1,2,subplot_kw={'projection':watershed_workflow.crs.to_cartopy(crs)}, figsize=(12,8))\n",
    "\n",
    "axs[0].plot(watershed_orig.exterior().exterior.xy[0], watershed_orig.exterior().exterior.xy[1], 'k-x')\n",
    "axs[0].set_title('original river network and hucs',fontsize=16)\n",
    "axs[1].plot(watershed.exterior().exterior.xy[0], watershed.exterior().exterior.xy[1], 'k-x')\n",
    "axs[1].set_title('after simplify and prune',fontsize=16)\n",
    "\n",
    "for river in rivers_orig:\n",
    "    for node in river.preOrder():\n",
    "        x,y=node.segment.xy \n",
    "        axs[0].plot(x,y,'-o',markersize=5)\n",
    "\n",
    "for river in rivers_simplified:\n",
    "    for node in river.preOrder():\n",
    "        x,y=node.segment.xy \n",
    "        axs[1].plot(x,y,'-o',markersize=5)"
   ]
  },
  {
   "cell_type": "markdown",
   "metadata": {},
   "source": [
    "### Densification of River Network and Watershed"
   ]
  },
  {
   "cell_type": "code",
   "execution_count": null,
   "metadata": {},
   "outputs": [],
   "source": [
    "# how many stream orders we have\n",
    "stream_orders = []\n",
    "for river in rivers:\n",
    "    for node in river.preOrder():\n",
    "        stream_orders.append(node.properties['StreamOrder'])\n",
    "    \n",
    "set(stream_orders)"
   ]
  },
  {
   "cell_type": "markdown",
   "metadata": {},
   "source": [
    "Provide 'target_length' property for each reach using properties. "
   ]
  },
  {
   "cell_type": "markdown",
   "metadata": {},
   "source": [
    "Try length scale for order three reaches as 100 m"
   ]
  },
  {
   "cell_type": "code",
   "execution_count": 10,
   "metadata": {},
   "outputs": [],
   "source": [
    "target_lens= dict({1:30, 2:55, 3:70}) \n",
    "\n",
    "for river in rivers:\n",
    "    for node in river.preOrder():\n",
    "        node.properties['target_length'] = target_lens[node.properties['StreamOrder']]"
   ]
  },
  {
   "cell_type": "code",
   "execution_count": 11,
   "metadata": {},
   "outputs": [],
   "source": [
    "# huc boundary refinement control\n",
    "refine_d0 = 20\n",
    "refine_d1 = 100\n",
    "refine_L0 = 70\n",
    "refine_L1 = 200"
   ]
  },
  {
   "cell_type": "code",
   "execution_count": null,
   "metadata": {},
   "outputs": [],
   "source": [
    "d0 = refine_d0; d1 = refine_d1\n",
    "L0 = refine_L0; L1 = refine_L1 \n",
    "\n",
    "# densify_watershed\n",
    "watershed_workflow.densification.densify_hucs(watershed, watershed_orig, rivers, limit_scales=[d0,L0,d1,L1]) \n",
    "\n",
    "#densify_river\n",
    "watershed_workflow.densification.densify_rivers_new(rivers, limit=True) # note that no original river network is provided here\n",
    "\n",
    "# treat sharp angles\n",
    "watershed_workflow.densification.remove_sharp_angles(rivers, watershed, angle_limit=10, junction_angle_limit=10, huc_seg_river_angle_limit=10, limit=np.mean(list(target_lens.values())))"
   ]
  },
  {
   "cell_type": "code",
   "execution_count": null,
   "metadata": {},
   "outputs": [],
   "source": [
    "# plot re-densified watershed and river network\n",
    "fig, ax = plt.subplots(subplot_kw={'projection':watershed_workflow.crs.to_cartopy(crs)}, figsize=(10,7.5))\n",
    "\n",
    "ax.plot(watershed.exterior().exterior.xy[0], watershed.exterior().exterior.xy[1], 'k-x')\n",
    "ax.set_title('re-densified',fontsize=16)\n",
    "\n",
    "for river in rivers:\n",
    "    for node in river.preOrder():\n",
    "        x,y=node.segment.xy \n",
    "        ax.plot(x,y,'-o',markersize=5)"
   ]
  },
  {
   "cell_type": "code",
   "execution_count": 14,
   "metadata": {},
   "outputs": [],
   "source": [
    "# plot segment lengths distribution\n",
    "\n",
    "lens = []\n",
    "for river in rivers:\n",
    "    for line in river.depthFirst():\n",
    "        coords = np.array(line.coords[:])\n",
    "        dz = np.linalg.norm(coords[1:] - coords[:-1], 2, -1)\n",
    "        lens = lens + dz.tolist()"
   ]
  },
  {
   "cell_type": "code",
   "execution_count": null,
   "metadata": {},
   "outputs": [],
   "source": [
    "# Assuming lens_new and lens_old are your lists\n",
    "data = [lens]\n",
    "\n",
    "labels = ['base']\n",
    "\n",
    "fig, ax = plt.subplots(figsize=(4,4))\n",
    "ax.boxplot(data, labels=labels)\n",
    "\n",
    "ax.set_ylabel('Values')\n",
    "ax.set_title('Comparison between Old and New Lengths')\n",
    "\n",
    "plt.show()"
   ]
  }
 ],
 "metadata": {
  "kernelspec": {
   "display_name": "watershed_workflow-pure",
   "language": "python",
   "name": "python3"
  },
  "language_info": {
   "codemirror_mode": {
    "name": "ipython",
    "version": 3
   },
   "file_extension": ".py",
   "mimetype": "text/x-python",
   "name": "python",
   "nbconvert_exporter": "python",
   "pygments_lexer": "ipython3",
   "version": "3.10.6"
  }
 },
 "nbformat": 4,
 "nbformat_minor": 4
}
